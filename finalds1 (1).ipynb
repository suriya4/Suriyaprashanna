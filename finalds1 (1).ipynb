{
  "nbformat": 4,
  "nbformat_minor": 0,
  "metadata": {
    "colab": {
      "provenance": []
    },
    "kernelspec": {
      "name": "python3",
      "display_name": "Python 3"
    },
    "language_info": {
      "name": "python"
    },
    "gpuClass": "standard",
    "accelerator": "GPU"
  },
  "cells": [
    {
      "cell_type": "code",
      "execution_count": null,
      "metadata": {
        "id": "HZKIUiVKD3oi"
      },
      "outputs": [],
      "source": [
        "import tensorflow\n",
        "import numpy as np\n",
        "import os\n",
        "import shutil\n",
        "from tensorflow.keras.preprocessing.image import ImageDataGenerator\n",
        "\n",
        "\n",
        "import tensorflow as tf\n",
        "\n",
        "from tensorflow.keras import datasets, layers, models\n",
        "import matplotlib.pyplot as plt\n",
        "\n",
        "import os\n",
        "import zipfile\n",
        "\n",
        "import datetime\n",
        "\n",
        "\n"
      ]
    },
    {
      "cell_type": "code",
      "source": [
        "from tensorflow.keras.models import Sequential\n",
        "from tensorflow.keras.layers import Conv2D, MaxPool2D, Flatten, Dense, Dropout"
      ],
      "metadata": {
        "id": "XbqQoF0dlcSz"
      },
      "execution_count": null,
      "outputs": []
    },
    {
      "cell_type": "code",
      "source": [
        "!unzip -q \"/content/drive/MyDrive/data.zip\"\n"
      ],
      "metadata": {
        "id": "P0MhfDd13z2D"
      },
      "execution_count": null,
      "outputs": []
    },
    {
      "cell_type": "code",
      "source": [
        "ydir1 = '/content/content/sign'\n",
        "dir2 = '/content/train/sign'\n",
        "dir3 = '/content/valid/sign'\n",
        "\n",
        "dir_list = os.listdir(dir1)\n",
        "dir_list.sort()\n",
        "\n",
        "for img in dir_list[:25001]:\n",
        "  shutil.move(os.path.join(dir1,img), os.path.join(dir2,img))\n",
        "\n",
        "for img in dir_list[25001:]:\n",
        "  shutil.move(os.path.join(dir1,img), os.path.join(dir3,img))"
      ],
      "metadata": {
        "id": "kggM5DyYQlST"
      },
      "execution_count": null,
      "outputs": []
    },
    {
      "cell_type": "code",
      "source": [
        "dir1 = '/content/content/unsign'\n",
        "dir2 = '/content/train/unsign'\n",
        "dir3 = '/content/valid/unsign'\n",
        "\n",
        "dir_list = os.listdir(dir1)\n",
        "dir_list.sort()\n",
        "\n",
        "for img in dir_list[:25001]:\n",
        "  shutil.move(os.path.join(dir1,img), os.path.join(dir2,img))\n",
        "\n",
        "for img in dir_list[25001:]:\n",
        "  shutil.move(os.path.join(dir1,img), os.path.join(dir3,img))"
      ],
      "metadata": {
        "id": "MnL73o-3ROso"
      },
      "execution_count": null,
      "outputs": []
    },
    {
      "cell_type": "code",
      "source": [
        "!rm -r \"/content/valid/.ipynb_checkpoints\"\n",
        "!rm -r \"/content/train/.ipynb_checkpoints\""
      ],
      "metadata": {
        "id": "TBzzJPda4GJf"
      },
      "execution_count": null,
      "outputs": []
    },
    {
      "cell_type": "code",
      "source": [
        "train = ImageDataGenerator(rescale=1./255).flow_from_directory(directory=\"/content/train\", batch_size=32, target_size=(256,256), class_mode='binary')\n",
        "valid = ImageDataGenerator(rescale=1./255).flow_from_directory(directory=\"/content/val\", batch_size=32, target_size=(256,256), class_mode='binary')"
      ],
      "metadata": {
        "colab": {
          "base_uri": "https://localhost:8080/"
        },
        "id": "7VmgYkXtqvC2",
        "outputId": "6ee285df-dc9a-4721-ac90-86a01e97a263"
      },
      "execution_count": null,
      "outputs": [
        {
          "output_type": "stream",
          "name": "stdout",
          "text": [
            "Found 46978 images belonging to 2 classes.\n",
            "Found 2000 images belonging to 2 classes.\n"
          ]
        }
      ]
    },
    {
      "cell_type": "code",
      "source": [
        "model = Sequential()\n",
        "model.add(layers.Conv2D(input_shape=(256, 256, 3), filters=64,kernel_size=(3,3), padding=\"same\",activation='relu'))\n",
        "model.add(layers.Conv2D(filters=32,kernel_size=(3,3), padding=\"same\",activation='relu'))\n",
        "model.add(layers.MaxPooling2D((2, 2)))\n",
        "model.add(layers.Conv2D(128, (3, 3), activation='relu'))\n",
        "model.add(layers.MaxPooling2D((2, 2)))\n",
        "model.add(layers.Conv2D(64, (3, 3), activation='relu'))\n",
        "model.add(layers.MaxPooling2D((2, 2)))\n",
        "model.add(layers.Conv2D(128, (3, 3), activation='relu'))\n",
        "model.add(layers.MaxPooling2D((2, 2)))\n",
        "model.add(layers.Conv2D(64, (3, 3), activation='relu'))\n",
        "model.add(layers.MaxPooling2D((2, 2)))\n",
        "model.add(layers.Conv2D(128, (3, 3), activation='relu'))\n",
        "model.add(layers.MaxPooling2D((2, 2)))\n",
        "model.add(layers.Flatten())\n",
        "model.add(layers.Dense(64, activation='relu'))\n",
        "model.add(layers.Dense(1,activation='sigmoid'))"
      ],
      "metadata": {
        "id": "Y8iqzPinvZlL"
      },
      "execution_count": null,
      "outputs": []
    },
    {
      "cell_type": "code",
      "source": [
        "from tensorflow.keras.optimizers import Adam\n",
        "\n",
        "model.compile(optimizer=\"adam\", loss=\"binary_crossentropy\", metrics=['accuracy'])"
      ],
      "metadata": {
        "id": "srXh710nz7Uu"
      },
      "execution_count": null,
      "outputs": []
    },
    {
      "cell_type": "code",
      "source": [
        "early_stopping=tf.keras.callbacks.EarlyStopping(monitor=\"val_accuracy\",\n",
        "                                                patience=3)"
      ],
      "metadata": {
        "id": "cQUE661ygJMI"
      },
      "execution_count": null,
      "outputs": []
    },
    {
      "cell_type": "code",
      "source": [
        "model_fit = model.fit(train, steps_per_epoch = 100,\n",
        "                     epochs = 20,\n",
        "                    verbose = 1,\n",
        "                     validation_data = valid,\n",
        "                      callbacks = early_stopping)"
      ],
      "metadata": {
        "colab": {
          "base_uri": "https://localhost:8080/"
        },
        "id": "6nGHQxCW0Gia",
        "outputId": "8c477c59-4576-48c7-95e0-716b8603d2f8"
      },
      "execution_count": null,
      "outputs": [
        {
          "output_type": "stream",
          "name": "stdout",
          "text": [
            "Epoch 1/20\n",
            "100/100 [==============================] - 39s 239ms/step - loss: 0.5904 - accuracy: 0.7059 - val_loss: 0.4997 - val_accuracy: 0.7975\n",
            "Epoch 2/20\n",
            "100/100 [==============================] - 23s 228ms/step - loss: 0.4336 - accuracy: 0.8228 - val_loss: 0.4349 - val_accuracy: 0.8170\n",
            "Epoch 3/20\n",
            "100/100 [==============================] - 24s 236ms/step - loss: 0.4122 - accuracy: 0.8281 - val_loss: 0.4937 - val_accuracy: 0.7680\n",
            "Epoch 4/20\n",
            "100/100 [==============================] - 28s 283ms/step - loss: 0.4015 - accuracy: 0.8409 - val_loss: 0.5601 - val_accuracy: 0.7420\n",
            "Epoch 5/20\n",
            "100/100 [==============================] - 24s 238ms/step - loss: 0.3530 - accuracy: 0.8637 - val_loss: 0.4264 - val_accuracy: 0.8410\n",
            "Epoch 6/20\n",
            "100/100 [==============================] - 24s 239ms/step - loss: 0.3623 - accuracy: 0.8566 - val_loss: 0.4850 - val_accuracy: 0.7940\n",
            "Epoch 7/20\n",
            "100/100 [==============================] - 24s 241ms/step - loss: 0.3450 - accuracy: 0.8722 - val_loss: 0.4394 - val_accuracy: 0.8230\n",
            "Epoch 8/20\n",
            "100/100 [==============================] - 24s 238ms/step - loss: 0.2958 - accuracy: 0.8850 - val_loss: 0.4447 - val_accuracy: 0.8245\n"
          ]
        }
      ]
    },
    {
      "cell_type": "code",
      "source": [
        "model.save('newmodel.h5')"
      ],
      "metadata": {
        "id": "oRiVpaIp0LXM"
      },
      "execution_count": null,
      "outputs": []
    },
    {
      "cell_type": "code",
      "source": [
        "!unzip -q \"/content/drive/MyDrive/Colab Notebooks/inference.zip\""
      ],
      "metadata": {
        "id": "2DeT-u-Zklj9"
      },
      "execution_count": null,
      "outputs": []
    },
    {
      "cell_type": "code",
      "source": [
        "test = ImageDataGenerator(rescale=1./255).flow_from_directory(directory=\"/content/test\", batch_size=32, target_size=(256,256), class_mode='binary')\n"
      ],
      "metadata": {
        "id": "LznwBGyaPIJh",
        "colab": {
          "base_uri": "https://localhost:8080/"
        },
        "outputId": "2d75ba2f-9e37-49bf-ca12-c0e451c6544d"
      },
      "execution_count": null,
      "outputs": [
        {
          "output_type": "stream",
          "name": "stdout",
          "text": [
            "Found 6000 images belonging to 2 classes.\n"
          ]
        }
      ]
    },
    {
      "cell_type": "code",
      "source": [
        "from tensorflow.keras.models import load_model\n",
        "mymodel=load_model('newmodel.h5')"
      ],
      "metadata": {
        "id": "4bfSbI3flrTM"
      },
      "execution_count": null,
      "outputs": []
    },
    {
      "cell_type": "code",
      "source": [
        "mymodel.evaluate(test)"
      ],
      "metadata": {
        "colab": {
          "base_uri": "https://localhost:8080/"
        },
        "id": "l7kpy62-mEyR",
        "outputId": "5a0c42ad-0409-4293-ce38-be83a13ec83f"
      },
      "execution_count": null,
      "outputs": [
        {
          "output_type": "stream",
          "name": "stdout",
          "text": [
            "188/188 [==============================] - 16s 83ms/step - loss: 0.1680 - accuracy: 0.9528\n"
          ]
        },
        {
          "output_type": "execute_result",
          "data": {
            "text/plain": [
              "[0.16799099743366241, 0.952833354473114]"
            ]
          },
          "metadata": {},
          "execution_count": 14
        }
      ]
    },
    {
      "cell_type": "code",
      "source": [
        "from google.colab.patches import cv2_imshow\n",
        "import numpy as np\n",
        "import cv2"
      ],
      "metadata": {
        "id": "em-ZvY2QmLbr"
      },
      "execution_count": null,
      "outputs": []
    },
    {
      "cell_type": "code",
      "source": [
        "image = cv2.imread(\"/content/test/Signed/1 (1584).png\")\n",
        "\n",
        "black_img=np.sum(image<=80)\n",
        "white_img=np.sum(image>80)\n",
        "percentage=(white_img/black_img)*100\n",
        "print('black pixels: ',black_img)\n",
        "print('white_pixels: ',white_img)\n",
        "print('percentage: ', percentage)"
      ],
      "metadata": {
        "colab": {
          "base_uri": "https://localhost:8080/"
        },
        "id": "E5yUuNPatDYo",
        "outputId": "5104e4ab-0566-4bff-9280-d50b8a6ed74f"
      },
      "execution_count": null,
      "outputs": [
        {
          "output_type": "stream",
          "name": "stdout",
          "text": [
            "black pixels:  194538\n",
            "white_pixels:  2070\n",
            "percentage:  1.0640594639607686\n"
          ]
        }
      ]
    },
    {
      "cell_type": "code",
      "source": [
        "nosign = cv2.imread(\"/content/train/Signed/1 (1792).png\")\n",
        "sign = cv2.imread(\"/content/train/Signed/10 (279).png\")\n",
        "\n",
        "def calc_white_per(img):\n",
        "  white = np.sum(img != 0)\n",
        "  black = np.sum(img == 0)\n",
        "  perc = white/(white+black)\n",
        "  return perc\n",
        "\n",
        "print(\"Percentage of white pixels for sign img : \",calc_white_per(sign))\n",
        "print(\"Percentage of white pixels for nosign img : \",calc_white_per(nosign))"
      ],
      "metadata": {
        "id": "jHVYTMMSuDWk",
        "colab": {
          "base_uri": "https://localhost:8080/"
        },
        "outputId": "425d0136-583e-4028-b923-b10d724ad889"
      },
      "execution_count": null,
      "outputs": [
        {
          "output_type": "stream",
          "name": "stdout",
          "text": [
            "Percentage of white pixels for sign img :  1.0\n",
            "Percentage of white pixels for nosign img :  0.6818389892578125\n"
          ]
        }
      ]
    },
    {
      "cell_type": "code",
      "source": [
        "sign_dir = \"/content/train/Signed\"\n",
        "unsign_dir = \"/content/train/Unsigned\"\n",
        "\n",
        "sign_dir_list = os.listdir(sign_dir)\n",
        "unsign_dir_list = os.listdir(unsign_dir)\n",
        "\n",
        "sign_dir_list.sort()\n",
        "unsign_dir_list.sort()\n",
        "\n",
        "Signedpercentage = 0\n",
        "for img_nm in sign_dir_list:\n",
        "    img = cv2.imread(os.path.join(sign_dir,img_nm))\n",
        "    Signedpercentage += calc_white_per(img)"
      ],
      "metadata": {
        "id": "s9cPXd0P1Rqe"
      },
      "execution_count": null,
      "outputs": []
    },
    {
      "cell_type": "code",
      "source": [
        "Unsignedpercentage = 0\n",
        "for img_nm in unsign_dir_list:\n",
        "    img1 = cv2.imread(os.path.join(unsign_dir,img_nm))\n",
        "    Unsignedpercentage += calc_white_per(img1)"
      ],
      "metadata": {
        "id": "mmRNz2HU1Rg-"
      },
      "execution_count": null,
      "outputs": []
    },
    {
      "cell_type": "code",
      "source": [
        "print(Signedpercentage/len(sign_dir_list))"
      ],
      "metadata": {
        "colab": {
          "base_uri": "https://localhost:8080/"
        },
        "id": "Ekg2HMtT1RXh",
        "outputId": "41fa6325-f7c4-4210-be18-b8d5371e8684"
      },
      "execution_count": null,
      "outputs": [
        {
          "output_type": "stream",
          "name": "stdout",
          "text": [
            "0.5920936771798019\n"
          ]
        }
      ]
    },
    {
      "cell_type": "code",
      "source": [
        "print(Unsignedpercentage/len(unsign_dir_list))"
      ],
      "metadata": {
        "colab": {
          "base_uri": "https://localhost:8080/"
        },
        "id": "Aow90Vgf1RIc",
        "outputId": "64797366-4d6a-4f7b-a74f-530b3a6f308b"
      },
      "execution_count": null,
      "outputs": [
        {
          "output_type": "stream",
          "name": "stdout",
          "text": [
            "0.49537408200152366\n"
          ]
        }
      ]
    },
    {
      "cell_type": "code",
      "source": [
        "count = 0\n",
        "for img_nm in sign_dir_list:\n",
        "    img = cv2.imread(os.path.join(sign_dir,img_nm))\n",
        "    Signedpercentage = calc_white_per(img)\n",
        "    if Signedpercentage >=0.59:\n",
        "      count += 1"
      ],
      "metadata": {
        "id": "j0_LKGEG2vnn"
      },
      "execution_count": null,
      "outputs": []
    },
    {
      "cell_type": "code",
      "source": [
        "print(\"For Signed : \")\n",
        "print(\"Predicted right : \",count)\n",
        "print(\"Predicted wrong : \",len(sign_dir_list)-count)"
      ],
      "metadata": {
        "colab": {
          "base_uri": "https://localhost:8080/"
        },
        "id": "5I3clGwX24K4",
        "outputId": "3f49e6c0-0bcc-44ca-a892-ef5f9b049ec6"
      },
      "execution_count": null,
      "outputs": [
        {
          "output_type": "stream",
          "name": "stdout",
          "text": [
            "For Signed : \n",
            "Predicted right :  23489\n",
            "Predicted wrong :  0\n"
          ]
        }
      ]
    },
    {
      "cell_type": "code",
      "source": [
        "count1 = 0\n",
        "for img_nm in unsign_dir_list:\n",
        "    img = cv2.imread(os.path.join(unsign_dir,img_nm))\n",
        "    Signedpercentage = calc_white_per(img)\n",
        "    if Signedpercentage <=0.59:\n",
        "      count1 += 1"
      ],
      "metadata": {
        "id": "bmzmFRe33ChC"
      },
      "execution_count": null,
      "outputs": []
    },
    {
      "cell_type": "code",
      "source": [
        "print(\"For Unsigned : \")\n",
        "print(\"Predicted right : \",count1)\n",
        "print(\"Predicted wrong : \",len(unsign_dir_list)-count1)"
      ],
      "metadata": {
        "colab": {
          "base_uri": "https://localhost:8080/"
        },
        "id": "RPCBcrFS3CLZ",
        "outputId": "2b012617-9ce3-495c-cb56-c1c7b108f711"
      },
      "execution_count": null,
      "outputs": [
        {
          "output_type": "stream",
          "name": "stdout",
          "text": [
            "For Unsigned : \n",
            "Predicted right :  0\n",
            "Predicted wrong :  23489\n"
          ]
        }
      ]
    },
    {
      "cell_type": "code",
      "source": [
        "signed = 0\n",
        "unsigned = 0\n",
        "for img_nm in sign_dir_list:\n",
        "    img = cv2.imread(os.path.join(sign_dir,img_nm))\n",
        "    Signedpercentage = calc_white_per(img)\n",
        "    if Signedpercentage >= 0.59:\n",
        "      signed += 1\n",
        "    else:\n",
        "      unsigned += 1\n",
        "\n",
        "print(\"No of signed : \",signed)\n",
        "print(\"No of unsigned : \",unsigned)"
      ],
      "metadata": {
        "colab": {
          "base_uri": "https://localhost:8080/"
        },
        "id": "7PXsYjL63ktJ",
        "outputId": "cbea6db3-f371-473f-c89a-9d57e74dcab3"
      },
      "execution_count": null,
      "outputs": [
        {
          "output_type": "stream",
          "name": "stdout",
          "text": [
            "No of signed :  13923\n",
            "No of unsigned :  9566\n"
          ]
        }
      ]
    }
  ]
}